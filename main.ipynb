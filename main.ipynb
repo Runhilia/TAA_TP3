{
 "cells": [
  {
   "cell_type": "code",
   "execution_count": 55,
   "metadata": {},
   "outputs": [
    {
     "name": "stdout",
     "output_type": "stream",
     "text": [
      "The autoreload extension is already loaded. To reload it, use:\n",
      "  %reload_ext autoreload\n"
     ]
    }
   ],
   "source": [
    "import numpy as np\n",
    "import pandas as pd\n",
    "import matplotlib.pyplot as plt\n",
    "from sklearn.model_selection import train_test_split\n",
    "from utilsfunction  import *\n",
    "\n",
    "\n",
    "%load_ext autoreload\n",
    "%autoreload 2"
   ]
  },
  {
   "cell_type": "code",
   "execution_count": 47,
   "metadata": {},
   "outputs": [],
   "source": [
    "data = np.loadtxt('Wave.txt')\n",
    "features = data[:, :-1]\n",
    "label = data[:, -1]\n",
    "\n",
    "X_train, X_test, y_train, y_test = train_test_split(features, label, test_size=0.5, random_state=42, stratify=label)\n"
   ]
  },
  {
   "cell_type": "code",
   "execution_count": 63,
   "metadata": {},
   "outputs": [
    {
     "name": "stdout",
     "output_type": "stream",
     "text": [
      "[9.72373482e-05 4.21354696e-02 1.99523155e-01 2.92929271e-01\n",
      " 5.01412102e-01 6.30645580e-01 6.93935871e-01 5.40173103e-01\n",
      " 4.54616661e-01 4.40871954e-01 4.46401311e-01 4.28982799e-01\n",
      " 4.90609377e-01 5.23591503e-01 6.41818708e-01 5.75108029e-01\n",
      " 4.95238712e-01 3.00704738e-01 1.85856385e-01 5.44404497e-02\n",
      " 1.11173480e-04 2.93124155e-04 5.69717390e-04 2.80737857e-04\n",
      " 3.11028024e-03 8.05671500e-04 1.34440405e-03 5.28947814e-06\n",
      " 1.35189496e-03 6.92216879e-04 1.09497140e-03 1.80646047e-03\n",
      " 1.78251923e-03 3.73719451e-03 4.92435043e-04 2.20437362e-04\n",
      " 2.49925574e-03 2.39069470e-03 2.71358575e-05 1.46858678e-03]\n",
      "Score de pertinence :  None\n"
     ]
    },
    {
     "ename": "AttributeError",
     "evalue": "'NoneType' object has no attribute 'shape'",
     "output_type": "error",
     "traceback": [
      "\u001b[1;31m---------------------------------------------------------------------------\u001b[0m",
      "\u001b[1;31mAttributeError\u001b[0m                            Traceback (most recent call last)",
      "Cell \u001b[1;32mIn[63], line 6\u001b[0m\n\u001b[0;32m      3\u001b[0m score \u001b[38;5;241m=\u001b[39m pertinence(X_train, y_train_lab)\n\u001b[0;32m      5\u001b[0m \u001b[38;5;28mprint\u001b[39m(\u001b[38;5;124m\"\u001b[39m\u001b[38;5;124mScore de pertinence : \u001b[39m\u001b[38;5;124m\"\u001b[39m, score)\n\u001b[1;32m----> 6\u001b[0m \u001b[38;5;28mprint\u001b[39m(\u001b[43mscore\u001b[49m\u001b[38;5;241;43m.\u001b[39;49m\u001b[43mshape\u001b[49m)\n",
      "\u001b[1;31mAttributeError\u001b[0m: 'NoneType' object has no attribute 'shape'"
     ]
    }
   ],
   "source": [
    "y_train_copy = y_train.copy()\n",
    "y_train_lab = etiquetage(y_train_copy, 0.5)\n",
    "pertinence(X_train, y_train_lab)\n"
   ]
  },
  {
   "cell_type": "code",
   "execution_count": 11,
   "metadata": {},
   "outputs": [],
   "source": []
  }
 ],
 "metadata": {
  "kernelspec": {
   "display_name": "Python 3",
   "language": "python",
   "name": "python3"
  },
  "language_info": {
   "codemirror_mode": {
    "name": "ipython",
    "version": 3
   },
   "file_extension": ".py",
   "mimetype": "text/x-python",
   "name": "python",
   "nbconvert_exporter": "python",
   "pygments_lexer": "ipython3",
   "version": "3.11.11"
  }
 },
 "nbformat": 4,
 "nbformat_minor": 2
}
