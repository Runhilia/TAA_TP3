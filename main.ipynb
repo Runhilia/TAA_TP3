{
 "cells": [
  {
   "cell_type": "code",
   "execution_count": 55,
   "metadata": {},
   "outputs": [
    {
     "name": "stdout",
     "output_type": "stream",
     "text": [
      "The autoreload extension is already loaded. To reload it, use:\n",
      "  %reload_ext autoreload\n"
     ]
    }
   ],
   "source": [
    "import numpy as np\n",
    "import pandas as pd\n",
    "import matplotlib.pyplot as plt\n",
    "from sklearn.model_selection import train_test_split\n",
    "from utilsfunction  import *\n",
    "\n",
    "\n",
    "%load_ext autoreload\n",
    "%autoreload 2"
   ]
  },
  {
   "cell_type": "code",
   "execution_count": 47,
   "metadata": {},
   "outputs": [],
   "source": [
    "data = np.loadtxt('Wave.txt')\n",
    "features = data[:, :-1]\n",
    "label = data[:, -1]\n",
    "\n",
    "X_train, X_test, y_train, y_test = train_test_split(features, label, test_size=0.5, random_state=42, stratify=label)\n"
   ]
  },
  {
   "cell_type": "code",
   "execution_count": 72,
   "metadata": {},
   "outputs": [
    {
     "name": "stdout",
     "output_type": "stream",
     "text": [
      "[2.87619027e-13 2.46801155e-11 6.76676376e-11 1.74834391e-10\n",
      " 3.59134778e-10 4.61539742e-10 6.21690614e-10 3.95405729e-10\n",
      " 3.18316768e-10 2.51506230e-10 3.72129422e-10 2.57232928e-10\n",
      " 3.30897435e-10 3.85386911e-10 5.13646507e-10 4.25594972e-10\n",
      " 3.37988474e-10 1.67525100e-10 7.49155737e-11 2.23616495e-11\n",
      " 3.25402414e-13 1.23531464e-12 1.23981141e-12 8.58733327e-13\n",
      " 8.05721290e-13 1.09799599e-13 8.96902505e-13 3.89657155e-13\n",
      " 1.06839421e-12 2.01292980e-13 3.72016999e-13 2.57313912e-13\n",
      " 2.18833079e-13 2.23285440e-13 3.57554810e-13 1.71411350e-13\n",
      " 6.13300520e-13 1.31363186e-12 1.34438376e-13 1.29368017e-13]\n"
     ]
    }
   ],
   "source": [
    "y_train_copy = y_train.copy()\n",
    "y_train_lab = etiquetage(y_train_copy, 0.5)\n",
    "score = pertinence(X_train, y_train_lab)\n",
    "print(score)\n"
   ]
  },
  {
   "cell_type": "code",
   "execution_count": 11,
   "metadata": {},
   "outputs": [],
   "source": []
  }
 ],
 "metadata": {
  "kernelspec": {
   "display_name": "Python 3",
   "language": "python",
   "name": "python3"
  },
  "language_info": {
   "codemirror_mode": {
    "name": "ipython",
    "version": 3
   },
   "file_extension": ".py",
   "mimetype": "text/x-python",
   "name": "python",
   "nbconvert_exporter": "python",
   "pygments_lexer": "ipython3",
   "version": "3.11.11"
  }
 },
 "nbformat": 4,
 "nbformat_minor": 2
}
